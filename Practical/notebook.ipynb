{
 "cells": [
  {
   "cell_type": "code",
   "execution_count": 2,
   "id": "ebfccfdd",
   "metadata": {},
   "outputs": [],
   "source": [
    "import pandas as pd\n",
    "from datetime import datetime\n",
    "import os\n",
    "\n",
    "DATA_FILE = \"data/students.parquet\"\n",
    "\n",
    "def load_data():\n",
    "    if os.path.exists(DATA_FILE):\n",
    "        return pd.read_parquet(DATA_FILE)\n",
    "    else:\n",
    "        return pd.DataFrame(columns=[\"ФИО\", \"Группа\", \"Математика\", \"Физика\", \"Информатика\", \"Дата ввода\"])\n",
    "\n",
    "def save_data(df):\n",
    "    os.makedirs(\"data\", exist_ok=True)\n",
    "    df.to_parquet(DATA_FILE, index=False)\n",
    "\n",
    "def add_student(fio, group, math, physics, informatics):\n",
    "    df = load_data()\n",
    "    new_row = {\n",
    "        \"ФИО\": fio,\n",
    "        \"Группа\": group,\n",
    "        \"Математика\": int(math),\n",
    "        \"Физика\": int(physics),\n",
    "        \"Информатика\": int(informatics),\n",
    "        \"Дата ввода\": datetime.now()\n",
    "    }\n",
    "    df = pd.concat([df, pd.DataFrame([new_row])], ignore_index=True)\n",
    "    df.sort_values(\"ФИО\", inplace=True)\n",
    "    save_data(df)\n",
    "    print(\" Студент добавлен.\")\n",
    "\n",
    "def show_bad_students():\n",
    "    df = load_data()\n",
    "    mask = (df[[\"Математика\", \"Физика\", \"Информатика\"]] == 2).any(axis=1)\n",
    "    bad_students = df[mask][[\"ФИО\", \"Группа\"]]\n",
    "    if bad_students.empty:\n",
    "        print(\" Студентов с оценкой 2 нет.\")\n",
    "    else:\n",
    "        print(\" Студенты с хотя бы одной двойкой:\")\n",
    "        print(bad_students.to_string(index=False))\n",
    "\n",
    "def delete_column(column_name):\n",
    "    df = load_data()\n",
    "    if column_name in df.columns:\n",
    "        df.drop(columns=[column_name], inplace=True)\n",
    "        save_data(df)\n",
    "        print(f\" Колонка '{column_name}' удалена.\")\n",
    "    else:\n",
    "        print(\" Колонка не найдена.\")\n",
    "\n",
    "def delete_student(fio: str):\n",
    "    global df\n",
    "    initial_len = len(df)\n",
    "    \n",
    "    df = df[df[\"ФИО\"] != fio]\n",
    "    \n",
    "    if len(df) < initial_len:\n",
    "        print(f\" Студент '{fio}' удалён.\")\n",
    "        save_data(df)\n",
    "    else:\n",
    "        print(f\" Студент '{fio}' не найден.\")"
   ]
  },
  {
   "cell_type": "code",
   "execution_count": 4,
   "id": "7cefa6e3",
   "metadata": {},
   "outputs": [
    {
     "name": "stdout",
     "output_type": "stream",
     "text": [
      " Студент добавлен.\n",
      " Студенты с хотя бы одной двойкой:\n",
      "        ФИО  Группа\n",
      "Иванов И.И. ИКТ-101\n",
      "Иванов И.И. ИКТ-101\n",
      " Колонка 'Дата ввода' удалена.\n"
     ]
    }
   ],
   "source": [
    "# Пример использования\n",
    "add_student(\"Иванов И.И.\", \"ИКТ-101\", 3, 2, 5)\n",
    "show_bad_students()\n",
    "delete_column(\"Дата ввода\")"
   ]
  },
  {
   "cell_type": "code",
   "execution_count": 5,
   "id": "938cb33b-a38b-418c-8eb6-90002be8907e",
   "metadata": {},
   "outputs": [
    {
     "name": "stdout",
     "output_type": "stream",
     "text": [
      " Студент 'Иванов И.И.' удалён.\n"
     ]
    }
   ],
   "source": [
    "df = load_data()\n",
    "delete_student(\"Иванов И.И.\")"
   ]
  },
  {
   "cell_type": "code",
   "execution_count": 6,
   "id": "29d6ef1b-8f69-4da6-86a9-de7429d0735a",
   "metadata": {},
   "outputs": [
    {
     "name": "stdout",
     "output_type": "stream",
     "text": [
      "\u001b[1m============================= test session starts ==============================\u001b[0m\n",
      "platform linux -- Python 3.12.7, pytest-7.4.4, pluggy-1.0.0\n",
      "rootdir: /home/lyash/workspace/test1\n",
      "plugins: anyio-4.2.0\n",
      "collected 1 item                                                               \u001b[0m\n",
      "\n",
      "test_main.py \u001b[32m.\u001b[0m\u001b[32m                                                           [100%]\u001b[0m\n",
      "\n",
      "\u001b[33m=============================== warnings summary ===============================\u001b[0m\n",
      "test_main.py::test_add_student\n",
      "  /home/lyash/workspace/test1/app.py:26: FutureWarning: The behavior of DataFrame concatenation with empty or all-NA entries is deprecated. In a future version, this will no longer exclude empty or all-NA columns when determining the result dtypes. To retain the old behavior, exclude the relevant entries before the concat operation.\n",
      "    df = pd.concat([df, pd.DataFrame([new_row])], ignore_index=True)\n",
      "\n",
      "-- Docs: https://docs.pytest.org/en/stable/how-to/capture-warnings.html\n",
      "\u001b[33m========================= \u001b[32m1 passed\u001b[0m, \u001b[33m\u001b[1m1 warning\u001b[0m\u001b[33m in 0.33s\u001b[0m\u001b[33m =========================\u001b[0m\n"
     ]
    }
   ],
   "source": [
    "!pytest test_main.py"
   ]
  },
  {
   "cell_type": "code",
   "execution_count": null,
   "id": "a6d28122-2b64-48ba-96df-3c83a1d31f44",
   "metadata": {},
   "outputs": [],
   "source": []
  }
 ],
 "metadata": {
  "kernelspec": {
   "display_name": "Python 3 (ipykernel)",
   "language": "python",
   "name": "python3"
  },
  "language_info": {
   "codemirror_mode": {
    "name": "ipython",
    "version": 3
   },
   "file_extension": ".py",
   "mimetype": "text/x-python",
   "name": "python",
   "nbconvert_exporter": "python",
   "pygments_lexer": "ipython3",
   "version": "3.12.7"
  }
 },
 "nbformat": 4,
 "nbformat_minor": 5
}
